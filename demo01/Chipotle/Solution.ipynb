{
 "cells": [
  {
   "cell_type": "code",
   "execution_count": 10,
   "id": "0b72c1b9",
   "metadata": {},
   "outputs": [],
   "source": [
    "import pandas as pd\n",
    "import numpy as np"
   ]
  },
  {
   "cell_type": "code",
   "execution_count": 11,
   "id": "615ea6db",
   "metadata": {},
   "outputs": [],
   "source": [
    "df = pd.DataFrame(np.random.rand(20,5))"
   ]
  },
  {
   "cell_type": "code",
   "execution_count": 12,
   "id": "47b1f321",
   "metadata": {},
   "outputs": [
    {
     "name": "stdout",
     "output_type": "stream",
     "text": [
      "           0         1         2         3         4\n",
      "0   0.464732  0.783354  0.351086  0.350943  0.315784\n",
      "1   0.769316  0.011921  0.056215  0.235993  0.864040\n",
      "2   0.148030  0.526286  0.497974  0.047921  0.641306\n",
      "3   0.288891  0.473674  0.609018  0.281371  0.558023\n",
      "4   0.103949  0.562192  0.035998  0.706765  0.485577\n",
      "5   0.572844  0.980863  0.109080  0.131235  0.130945\n",
      "6   0.442870  0.545514  0.270682  0.052604  0.989865\n",
      "7   0.223065  0.658662  0.842373  0.256771  0.279860\n",
      "8   0.669451  0.456880  0.140200  0.406261  0.368436\n",
      "9   0.421654  0.109183  0.564299  0.186337  0.357183\n",
      "10  0.920328  0.475233  0.581209  0.502438  0.978536\n",
      "11  0.820021  0.423687  0.023685  0.383822  0.638001\n",
      "12  0.462614  0.670578  0.699067  0.237567  0.884719\n",
      "13  0.383956  0.844000  0.522903  0.665779  0.253384\n",
      "14  0.867715  0.302217  0.921284  0.208074  0.708926\n",
      "15  0.866645  0.370213  0.158740  0.284994  0.220846\n",
      "16  0.738665  0.517363  0.285457  0.071428  0.311451\n",
      "17  0.427374  0.493462  0.007915  0.618595  0.741055\n",
      "18  0.856552  0.644968  0.557902  0.418258  0.572741\n",
      "19  0.561451  0.936668  0.946489  0.525901  0.542529\n"
     ]
    }
   ],
   "source": [
    "print(df)"
   ]
  },
  {
   "cell_type": "code",
   "execution_count": 14,
   "id": "4721a4d7",
   "metadata": {},
   "outputs": [],
   "source": [
    "df.columns = ['a','b','c','d','e']"
   ]
  },
  {
   "cell_type": "code",
   "execution_count": 15,
   "id": "d1bb219c",
   "metadata": {},
   "outputs": [],
   "source": [
    "df.to_excel('output.xlsx')"
   ]
  },
  {
   "cell_type": "code",
   "execution_count": null,
   "id": "e24403a6",
   "metadata": {},
   "outputs": [],
   "source": []
  }
 ],
 "metadata": {
  "kernelspec": {
   "display_name": "Python 3 (ipykernel)",
   "language": "python",
   "name": "python3"
  },
  "language_info": {
   "codemirror_mode": {
    "name": "ipython",
    "version": 3
   },
   "file_extension": ".py",
   "mimetype": "text/x-python",
   "name": "python",
   "nbconvert_exporter": "python",
   "pygments_lexer": "ipython3",
   "version": "3.9.7"
  }
 },
 "nbformat": 4,
 "nbformat_minor": 5
}
